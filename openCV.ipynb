{
 "cells": [
  {
   "cell_type": "code",
   "execution_count": 13,
   "id": "optical-outdoors",
   "metadata": {},
   "outputs": [],
   "source": [
    "import cv2 as cv\n",
    "import numpy as np\n",
    "\n",
    "img = np.zeros((600, 900, 3), dtype=np.uint8)\n",
    "#background\n",
    "cv.rectangle(img, (0,0),(900,500),(255,225,85), -1)\n",
    "cv.rectangle(img, (0,500),(900,600),(75,180,70), -1)\n",
    "#sun\n",
    "cv.circle(img, (200,150), 60, (0,255,255), -1)\n",
    "cv.circle(img, (200,150), 75, (220,255,255), 10)\n",
    "\n",
    "# *** TREE 1 ***\n",
    "#tree stem\n",
    "cv.line(img, (710, 500), (710, 420), (30,65,155), 15)\n",
    "#tree leafs\n",
    "triangle2 = np.array([[640,460],[780,460], [710,200]], dtype=np.int32)\n",
    "cv.fillPoly(img, [triangle2], (75,180,70))\n",
    "\n",
    "# *** TREE 2 ***\n",
    "#tree stem\n",
    "cv.line(img, (600, 500), (600, 420), (30,65,155), 25)\n",
    "#tree leafs\n",
    "triangle = np.array([[500,440],[700,440], [600,75]], dtype=np.int32)\n",
    "cv.fillPoly(img, [triangle], (75,200,70))\n",
    "\n",
    "#text\n",
    "font = cv.FONT_HERSHEY_SCRIPT_SIMPLEX\n",
    "cv.putText(img, \"I Love Python\", (120,490), font, 1.5, (255,255,255), 2)\n",
    "\n",
    "cv.imwrite(\"tree.png\", img)\n",
    "cv.imshow(\"tree\", img)\n",
    "\n",
    "cv.waitKey(0)\n",
    "cv.destroyAllWindows()"
   ]
  },
  {
   "cell_type": "code",
   "execution_count": null,
   "id": "comfortable-trading",
   "metadata": {},
   "outputs": [],
   "source": []
  }
 ],
 "metadata": {
  "kernelspec": {
   "display_name": "Python 3",
   "language": "python",
   "name": "python3"
  },
  "language_info": {
   "codemirror_mode": {
    "name": "ipython",
    "version": 3
   },
   "file_extension": ".py",
   "mimetype": "text/x-python",
   "name": "python",
   "nbconvert_exporter": "python",
   "pygments_lexer": "ipython3",
   "version": "3.8.8"
  }
 },
 "nbformat": 4,
 "nbformat_minor": 5
}
