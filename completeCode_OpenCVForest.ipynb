{
 "cells": [
  {
   "cell_type": "markdown",
   "id": "metric-relay",
   "metadata": {},
   "source": [
    "## Draw a Forest of Objects with OpenCV\n",
    "\n",
    "<br>\n",
    "Author: Mariya Sha\n",
    "<br>\n",
    "YouTube Tutorial: https://youtu.be/-LsuiVGO-88"
   ]
  },
  {
   "cell_type": "code",
   "execution_count": 18,
   "id": "exterior-position",
   "metadata": {},
   "outputs": [],
   "source": [
    "import numpy as np\n",
    "import cv2 as cv\n",
    "import random\n",
    "\n",
    "# general parameters\n",
    "width = 900\n",
    "height = 600\n",
    "n_trees = 100\n",
    "ground_level = height-100\n",
    "\n",
    "# blank image\n",
    "bg = np.zeros((height, width, 3), dtype=np.uint8)\n",
    "\n",
    "# draw background\n",
    "cv.rectangle(bg,(width,0), (0, ground_level), (255,225,95), -1)\n",
    "\n",
    "# ***********************\n",
    "class Tree:\n",
    "    def __init__(self, image):\n",
    "        self.img = image\n",
    "        self.loc = int(np.random.choice(range(width), 1))\n",
    "        self.ht = int(np.random.choice(range(200,400), 1))\n",
    "        self.radius = 50\n",
    "        self.scale = np.random.choice(np.linspace(0.5,2, num=8), 1)\n",
    "    \n",
    "    def generate_colours(self):\n",
    "        green = (0, random.randint(130,200),0)\n",
    "        light_green = (35, random.randint(200,250),35)\n",
    "        brown = random.choice([(2,30,85), (5,55,120), (0,70,140)])\n",
    "        return green, light_green, brown\n",
    "    \n",
    "    def draw(self):\n",
    "        small_radius = int(self.radius*self.scale-20*self.scale)\n",
    "        green, light_green, brown = self.generate_colours()\n",
    "        \n",
    "        # leafs - shadows\n",
    "        cv.circle(self.img, (self.loc,ground_level-self.ht), int(self.radius*self.scale), green, -1)\n",
    "        cv.circle(self.img, (self.loc-int(45*self.scale),ground_level-self.ht+small_radius), small_radius , green, -1)\n",
    "        cv.circle(self.img, (self.loc+int(45*self.scale),ground_level-self.ht+small_radius), small_radius, green, -1)    \n",
    "        \n",
    "        # trunk\n",
    "        cv.line(self.img, (self.loc,ground_level),(self.loc,ground_level-self.ht), brown, int(20*self.scale))\n",
    "        cv.line(self.img, (self.loc,ground_level-self.ht+int(75*self.scale)),(self.loc+int(45*self.scale),ground_level-self.ht+small_radius), brown, int(5*self.scale))\n",
    "        cv.line(self.img, (self.loc,ground_level-self.ht+int(75*self.scale)),(self.loc-int(45*self.scale),ground_level-self.ht+small_radius), brown, int(5*self.scale))\n",
    "        \n",
    "        # leafs - highlights\n",
    "        cv.circle(self.img, (self.loc,ground_level-self.ht), int(self.radius*self.scale-10*self.scale), light_green, -1)\n",
    "        cv.circle(self.img, (self.loc-int(45*self.scale),ground_level-self.ht+small_radius), small_radius-int(10*self.scale) , light_green, -1)\n",
    "        cv.circle(self.img, (self.loc+int(45*self.scale),ground_level-self.ht+small_radius), small_radius-int(10*self.scale), light_green, -1)    \n",
    "        \n",
    "        cv.rectangle(bg,(width, ground_level), (0, height), green, -1)\n",
    "        return self.img\n",
    "# ***********************\n",
    "\n",
    "#display image\n",
    "for i in range(n_trees):\n",
    "    img = Tree(bg).draw()\n",
    "cv.imshow('forest of objects', img) \n",
    "\n",
    "cv.waitKey(0)\n",
    "cv.destroyAllWindows()"
   ]
  },
  {
   "cell_type": "code",
   "execution_count": null,
   "id": "careful-healing",
   "metadata": {},
   "outputs": [],
   "source": []
  },
  {
   "cell_type": "code",
   "execution_count": null,
   "id": "cubic-variety",
   "metadata": {},
   "outputs": [],
   "source": []
  }
 ],
 "metadata": {
  "kernelspec": {
   "display_name": "Python 3",
   "language": "python",
   "name": "python3"
  },
  "language_info": {
   "codemirror_mode": {
    "name": "ipython",
    "version": 3
   },
   "file_extension": ".py",
   "mimetype": "text/x-python",
   "name": "python",
   "nbconvert_exporter": "python",
   "pygments_lexer": "ipython3",
   "version": "3.8.8"
  }
 },
 "nbformat": 4,
 "nbformat_minor": 5
}
